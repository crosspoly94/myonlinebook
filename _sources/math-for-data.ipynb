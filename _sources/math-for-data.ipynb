{
 "cells": [
  {
   "cell_type": "markdown",
   "id": "acf2db1f",
   "metadata": {},
   "source": [
    "# Mathematical Processing of Data \n",
    "\n",
    "Two basic mathematical concepts will be used in this analysis and here gives a brief review of them.\n",
    "\n",
    "## Inflation Adjusted Gross Income(IAGI)\n",
    "\n",
    "AGI can be calculated by this equation:\n",
    "\n",
    "```{math}\n",
    ":label: eq_label\n",
    "IAGI=GI \\times (1+IR)\n",
    "\n",
    "IR=((B-A)/A) \\times 100\n",
    "\n",
    "```\n",
    "\n",
    "```{note}\n",
    "- A=Starting cost\n",
    "- B=Ending cost\n",
    "- GI=Gross income\n",
    "- IAGI=Inflation adjusted gross income\n",
    "- IR=Inflation rate\n",
    "```\n",
    "\n",
    "         \n",
    "## Mean value\n",
    "\n",
    "The mean is the average of the numbers.It is easy to calculate: add up all the numbers, then divide by how many numbers there are. In other words it is the sum divided by the count. Mathematically, the definion of the mean value can be explained by the following equaiton.\n",
    "\n",
    "$$\n",
    "\\begin{equation}\n",
    "\\bar{x}=\\frac{x_{1}+x_{2}+\\cdots+x_{n}}{n}\n",
    "\\end{equation}\n",
    "$$ (my_other_label)\n",
    "\n",
    "In python, the mean can be calculated by the following codes:"
   ]
  },
  {
   "cell_type": "code",
   "execution_count": 1,
   "id": "d7ab2c79",
   "metadata": {},
   "outputs": [
    {
     "name": "stdout",
     "output_type": "stream",
     "text": [
      "Mean is : 3.0\n"
     ]
    }
   ],
   "source": [
    "numbers = [1,2,3,4,5]\n",
    "\n",
    "x = sum(numbers)/len(numbers)\n",
    "print(\"Mean is :\", x)"
   ]
  },
  {
   "cell_type": "markdown",
   "id": "d35e9c6b",
   "metadata": {},
   "source": [
    "Also, mean() function can be used to calculate mean/average of a given list of numbers shown as follows:"
   ]
  },
  {
   "cell_type": "code",
   "execution_count": 2,
   "id": "57b64fd3",
   "metadata": {},
   "outputs": [
    {
     "name": "stdout",
     "output_type": "stream",
     "text": [
      "Mean is : 3\n"
     ]
    }
   ],
   "source": [
    "import statistics\n",
    "numbers = [1,2,3,4,5]\n",
    "\n",
    "x = statistics.mean(numbers)\n",
    "print(\"Mean is :\", x)"
   ]
  },
  {
   "cell_type": "markdown",
   "id": "d80cde77",
   "metadata": {},
   "source": [
    "## Dataset description\n",
    "\n",
    "The below descripitions were taken directly from the website where the datasets were obtained.\n",
    "\n",
    "```{margin} Did you know?\n",
    "The highest grossing income Disney movie in history\n",
    "```\n",
    "\n",
    "This database contains information on the films regarding their genre, actors, directors, and yearly gross income which can be found in different datasets. The Disney dataset is composed of 5 tables, disney_movie_total_gross.csv, disney_revenue_1991-2016.csv, disney_characters.csv, disney_directors.csv, disney_voice_actors.csv. Each table is stored in a .csv file and contains different information about disney movies including genre, actors, directors, yearly gross income, and so forth. \n",
    "\n",
    "```{note}\n",
    "I will be using the disney_movie_total_gross table formally described below:\n",
    "\n",
    "* **disney_movie_total_gross.csv**\n",
    "    * This file contains information on Disney movies, including moive titles, release date, genre, MPAA rating, total_gross, inflation_adjusted_gross. \n",
    "\n",
    "```"
   ]
  }
 ],
 "metadata": {
  "jupytext": {
   "cell_metadata_filter": "-all",
   "formats": "md:myst",
   "text_representation": {
    "extension": ".md",
    "format_name": "myst",
    "format_version": 0.13,
    "jupytext_version": "1.11.5"
   }
  },
  "kernelspec": {
   "display_name": "Python 3",
   "language": "python",
   "name": "python3"
  },
  "language_info": {
   "codemirror_mode": {
    "name": "ipython",
    "version": 3
   },
   "file_extension": ".py",
   "mimetype": "text/x-python",
   "name": "python",
   "nbconvert_exporter": "python",
   "pygments_lexer": "ipython3",
   "version": "3.9.12"
  },
  "source_map": [
   14,
   53,
   58,
   61,
   67
  ]
 },
 "nbformat": 4,
 "nbformat_minor": 5
}